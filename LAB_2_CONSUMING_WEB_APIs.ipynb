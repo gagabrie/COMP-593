{
  "nbformat": 4,
  "nbformat_minor": 0,
  "metadata": {
    "colab": {
      "name": "LAB 2: CONSUMING WEB APIs",
      "provenance": [],
      "toc_visible": true,
      "include_colab_link": true
    },
    "kernelspec": {
      "name": "python3",
      "display_name": "Python 3"
    }
  },
  "cells": [
    {
      "cell_type": "markdown",
      "metadata": {
        "id": "view-in-github",
        "colab_type": "text"
      },
      "source": [
        "<a href=\"https://colab.research.google.com/github/gagabrie/COMP-593/blob/main/LAB_2_CONSUMING_WEB_APIs.ipynb\" target=\"_parent\"><img src=\"https://colab.research.google.com/assets/colab-badge.svg\" alt=\"Open In Colab\"/></a>"
      ]
    },
    {
      "cell_type": "markdown",
      "metadata": {
        "id": "EoKZy-QeYU0_"
      },
      "source": [
        "#LAB 2: CONSUMING WEB APIs"
      ]
    },
    {
      "cell_type": "markdown",
      "metadata": {
        "id": "ayyh7BuRYfJo"
      },
      "source": [
        "## Making Network Requests\n",
        "To experiment with consuming web APIs, we are going to use a python Library that will allow us to make HTTP requests. There are several options out there, some are more popular than others. The standard choice would be the [requests](https://2.python-requests.org/en/master/) library, but for the purposes of educating you on the finer points of HTTP Messages, we will be utilizing the [http.client](https://docs.python.org/3/library/http.client.html) library."
      ]
    },
    {
      "cell_type": "markdown",
      "metadata": {
        "id": "VkspyplEZ4sR"
      },
      "source": [
        "As we have learned, the first step to utilizing a library is to  import it into our python script. We will import the `client` object from the `http` module."
      ]
    },
    {
      "cell_type": "code",
      "metadata": {
        "id": "UWFC3bYoYRlx"
      },
      "source": [
        "from http import client"
      ],
      "execution_count": 2,
      "outputs": []
    },
    {
      "cell_type": "markdown",
      "metadata": {
        "id": "FJsZPjpqaMnm"
      },
      "source": [
        "Next, we will attempt to create a connection to a host. For the purposes of this demonstration, we will connect to a Fake JSON Api provided to us by [typicode.](https://github.com/typicode)\n",
        "So, let's start by reviewing the [http.client documentation](https://docs.python.org/3/library/http.client.html) and creating a connection object."
      ]
    },
    {
      "cell_type": "code",
      "metadata": {
        "id": "vuasc-tmbAV-",
        "colab": {
          "base_uri": "https://localhost:8080/"
        },
        "outputId": "201410fb-6883-4920-de04-53976356acab"
      },
      "source": [
        "from http import client\n",
        "\n",
        "# Per the documentation, we get a connection object by calling the HTTPConnection() or HTTPSConnection() methods,\n",
        "# with parameters for the address and port.\n",
        "cxn = client.HTTPSConnection('jsonplaceholder.typicode.com', 443)\n",
        "\n",
        "# Let's test our connection by making a HEAD request, validating the HTTP status code, and printing the response headers.\n",
        "cxn.request('HEAD', '/')\n",
        "\n",
        "response = cxn.getresponse()\n",
        "\n",
        "if response.status is 200:\n",
        "  print('Response:',response.status, '🎉🎉🎉', '\\n')\n",
        "else:\n",
        "  print('Uh Oh, got',response.status)\n",
        "\n",
        "print(response.headers)"
      ],
      "execution_count": 3,
      "outputs": [
        {
          "output_type": "stream",
          "name": "stdout",
          "text": [
            "Response: 200 🎉🎉🎉 \n",
            "\n",
            "Date: Thu, 03 Mar 2022 03:40:03 GMT\n",
            "Content-Type: text/html; charset=UTF-8\n",
            "Connection: keep-alive\n",
            "X-Powered-By: Express\n",
            "X-Ratelimit-Limit: 1000\n",
            "X-Ratelimit-Remaining: 999\n",
            "X-Ratelimit-Reset: 1646202396\n",
            "Vary: Origin, Accept-Encoding\n",
            "Access-Control-Allow-Credentials: true\n",
            "Cache-Control: public, max-age=43200\n",
            "Last-Modified: Wed, 02 Mar 2022 00:27:28 GMT\n",
            "Via: 1.1 vegur\n",
            "CF-Cache-Status: HIT\n",
            "Age: 17413\n",
            "Expect-CT: max-age=604800, report-uri=\"https://report-uri.cloudflare.com/cdn-cgi/beacon/expect-ct\"\n",
            "Report-To: {\"endpoints\":[{\"url\":\"https:\\/\\/a.nel.cloudflare.com\\/report\\/v3?s=dNNOaRNSNaEVZYcB8yo3qVE%2BFcPO0nHGdOMZTrBsnOLiPTv3KR%2BkuZFuIWyNCUre2RYmxs%2FewcV4o1eKWCNOoAxr6HXOttd%2BZ1S6X9LR2lPmF9dc57Q6ESyo%2F6gdNFgs0Nvg52ggxyu29krEjZeZ\"}],\"group\":\"cf-nel\",\"max_age\":604800}\n",
            "NEL: {\"success_fraction\":0,\"report_to\":\"cf-nel\",\"max_age\":604800}\n",
            "Server: cloudflare\n",
            "CF-RAY: 6e5f593b7b978d67-ATL\n",
            "alt-svc: h3=\":443\"; ma=86400, h3-29=\":443\"; ma=86400\n",
            "\n",
            "\n"
          ]
        }
      ]
    },
    {
      "cell_type": "markdown",
      "metadata": {
        "id": "_qwpsJKreFSj"
      },
      "source": [
        "Awesome! A 200 status code means everything is g2g. For information about what the different status codes retured from HTTP Requests, [look here.](https://developer.mozilla.org/en-US/docs/Web/HTTP/Status) If you received anything other than a 200 Status code, try reloading the Notebook, ensuring you didn't accidentally make any changes."
      ]
    },
    {
      "cell_type": "markdown",
      "metadata": {
        "id": "1dr6bRGJfK5N"
      },
      "source": [
        "## JSON: The Language of APIs\n",
        "\n",
        "JSON (**J**ava**S**cript **O**bject **N**otation) is a messaging standard that was formalized in 2014 based on specifications of the JavaScript Standard introduced in 1999. In it's simplest form, it is an object containing a collection of `key` and `value` pairs. Values can be any primitive data types such as `boolean`, `integer`, `float`, or `string` but can also be nested `objects` or `arrays`.\n",
        "Almost every language provides an interface to be able to encode or decode JSON objects into a native format.\n",
        "\n",
        "In the case of python, we can decode JSON objects to `dictionaries`, and vice versa. See the example below:"
      ]
    },
    {
      "cell_type": "code",
      "metadata": {
        "id": "tB53-AfEg1sW",
        "colab": {
          "base_uri": "https://localhost:8080/"
        },
        "outputId": "1236b5ca-f04c-4f99-bdc2-bd25b455820c"
      },
      "source": [
        "import json\n",
        "\n",
        "#Given the following Dictionary\n",
        "values = dict([('first_name', 'Homer'), ('last_name', 'Simpson'), ('city', 'Springfield'), ('occupation', 'Nuclear Technician')])\n",
        "\n",
        "#We can convert a dictionary to using using the json.dumps() method\n",
        "jsonObject = json.dumps(values)\n",
        "print(jsonObject, '\\n')\n",
        "\n",
        "#Alternatively, given JSON, we can convert to a Dictionary object using the json.loads() method\n",
        "dictionary = json.loads(jsonObject)\n",
        "print(dictionary['first_name'], dictionary['last_name'])"
      ],
      "execution_count": 4,
      "outputs": [
        {
          "output_type": "stream",
          "name": "stdout",
          "text": [
            "{\"first_name\": \"Homer\", \"last_name\": \"Simpson\", \"city\": \"Springfield\", \"occupation\": \"Nuclear Technician\"} \n",
            "\n",
            "Homer Simpson\n"
          ]
        }
      ]
    },
    {
      "cell_type": "markdown",
      "metadata": {
        "id": "ceieILkVovku"
      },
      "source": [
        "Taking a look at the Documentation for the [fake API](https://jsonplaceholder.typicode.com/), it returns JSON objects for requests it receives. Let's try and combine what we've learned to get the Email Address of the User with ID 10."
      ]
    },
    {
      "cell_type": "code",
      "metadata": {
        "id": "F--Bluq4pY4j",
        "colab": {
          "base_uri": "https://localhost:8080/"
        },
        "outputId": "a396dc74-e0d9-4721-f8d5-e23eceaf59e3"
      },
      "source": [
        "from http import client\n",
        "import json\n",
        "\n",
        "# Per the documentation, we get a connection object by calling the HTTPConnection() or HTTPSConnection() methods,\n",
        "# with parameters for the address and port.\n",
        "cxn = client.HTTPSConnection('jsonplaceholder.typicode.com', 443)\n",
        "\n",
        "# In order to make our request, we will need to modify the method from our previous example to a GET request for the resource at '/users/10'.\n",
        "# When you're ready, uncomment the method call below.\n",
        "cxn.request('GET', '/users/10')\n",
        "\n",
        "response = cxn.getresponse()\n",
        "if response.status is 200:\n",
        "  print('Response:',response.status, '🎉🎉🎉', '\\n')\n",
        "else:\n",
        "  print('Uh Oh, got',response.status)\n",
        "\n",
        "#If everything goes well, this should contain the JSON response from the API.\n",
        "jsonData = response.read().decode()\n",
        "print(jsonData)\n",
        "\n",
        "#Next, go ahead and convert the jsonData string to a Dictionary, and print the email address.\n",
        "#Look at the example above for some pointers on how to accomplish that.\n",
        "\n",
        "dictionary = dictionary = json.loads(jsonData)\n",
        "print(dictionary['name'])\n",
        "print(dictionary['email'])"
      ],
      "execution_count": 2,
      "outputs": [
        {
          "output_type": "stream",
          "name": "stdout",
          "text": [
            "Response: 200 🎉🎉🎉 \n",
            "\n",
            "{\n",
            "  \"id\": 10,\n",
            "  \"name\": \"Clementina DuBuque\",\n",
            "  \"username\": \"Moriah.Stanton\",\n",
            "  \"email\": \"Rey.Padberg@karina.biz\",\n",
            "  \"address\": {\n",
            "    \"street\": \"Kattie Turnpike\",\n",
            "    \"suite\": \"Suite 198\",\n",
            "    \"city\": \"Lebsackbury\",\n",
            "    \"zipcode\": \"31428-2261\",\n",
            "    \"geo\": {\n",
            "      \"lat\": \"-38.2386\",\n",
            "      \"lng\": \"57.2232\"\n",
            "    }\n",
            "  },\n",
            "  \"phone\": \"024-648-3804\",\n",
            "  \"website\": \"ambrose.net\",\n",
            "  \"company\": {\n",
            "    \"name\": \"Hoeger LLC\",\n",
            "    \"catchPhrase\": \"Centralized empowering task-force\",\n",
            "    \"bs\": \"target end-to-end models\"\n",
            "  }\n",
            "}\n",
            "Clementina DuBuque\n",
            "Rey.Padberg@karina.biz\n"
          ]
        }
      ]
    },
    {
      "cell_type": "markdown",
      "metadata": {
        "id": "pPObsy_av_Ic"
      },
      "source": [
        "## Lab Submission\n",
        "\n",
        "For your Lab Submission, you will create a script that accomplishes the following goals:\n",
        "\n",
        "1.   Review the Documentation for the [PokeApi](https://pokeapi.co/)\n",
        "2.   Make a GET request to the correct endpoint to get information about any Pokemon.\n",
        "3.   Convert that Data from a JSON object to a Dictionary\n",
        "4.   Using that Dictonary, craft a string that will provide the `name`, `weight` and list of names of `types`\n",
        "5. Make an HTTP POST request using the Provided PasteBin API key to upload your crafted string. If successful, you will receive the URL of the PasteBin Document in the response of the POST request.\n",
        "6. That Link, and the code within this Notebook, will be your submission.\n",
        "\n"
      ]
    },
    {
      "cell_type": "code",
      "metadata": {
        "id": "lZswmCEKyHj8",
        "colab": {
          "base_uri": "https://localhost:8080/",
          "height": 395
        },
        "outputId": "2a11159a-1782-4acf-b81b-2d6ff81b84de"
      },
      "source": [
        "from http import client\n",
        "import urllib\n",
        "import json\n",
        "\n",
        "#HINT: You may want to create two different HTTPSConnection() objects for each API.\n",
        "pokeApi = client.HTTPSConnection('https://pokeapi.co/', 443)\n",
        "#pasteBin = client.HTTPSConnection(...)\n",
        "\n",
        "pokeApi.request('GET', '/api/v2/')\n",
        "\n",
        "response = pokeApi.getresponse()\n",
        "if response.status is 200:\n",
        "  print('Response:',response.status, '🎉🎉🎉', '\\n')\n",
        "else:\n",
        "  print('Uh Oh, got',response.status)\n",
        "\n",
        "#The Pastebin API key you will use\n",
        "jsonData = response.read().decode()\n",
        "print(jsonData)\n",
        "\n",
        "dictionary = dictionary = json.loads(jsonData)\n",
        "print(dictionary['name'])\n",
        "#pasteBinApi = \"f4R0OTFza_qTQ1NZJYLjoCeLqoHQux4X\"\n",
        "\n",
        "#Refer to the documentation at https://pastebin.com/doc_api for instructions on these parameters\n",
        "#requestParams = {\n",
        "#    'api_dev_key': pasteBinApi,\n",
        "#    'api_option': None,\n",
        "#    'api_paste_code': None\n",
        "#}\n",
        "\n",
        "#This additional Method call will convert the Dictionary to a URL-Encoded string for PasteBin,\n",
        "#Include this string as the body of your call to the HTTPConnection.request() method for your pasteBin connection.\n",
        "#requestBody = urllib.parse.urlencode(requestParams)\n",
        "\n",
        "#Since we are URLEncoding the request Body, we need to tell Pastebin that it can expect x-www-form-urlencoded content, by adding this information to the request header\n",
        "#pasteBinHeaders = {'Content-Type': 'application/x-www-form-urlencoded'}\n",
        "\n",
        "#When you are ready, you will pass the requestBody and the pasteBinHeaders to a pastebin request object, filling in the parameters as necessary.\n",
        "#pasteBinRequest = pasteBin.request(method, url, body=None, headers={})\n",
        "\n",
        "\n",
        "\n"
      ],
      "execution_count": 5,
      "outputs": [
        {
          "output_type": "error",
          "ename": "gaierror",
          "evalue": "ignored",
          "traceback": [
            "\u001b[0;31m---------------------------------------------------------------------------\u001b[0m",
            "\u001b[0;31mgaierror\u001b[0m                                  Traceback (most recent call last)",
            "\u001b[0;32m<ipython-input-5-e0301bd35418>\u001b[0m in \u001b[0;36m<module>\u001b[0;34m()\u001b[0m\n\u001b[1;32m      7\u001b[0m \u001b[0;31m#pasteBin = client.HTTPSConnection(...)\u001b[0m\u001b[0;34m\u001b[0m\u001b[0;34m\u001b[0m\u001b[0;34m\u001b[0m\u001b[0m\n\u001b[1;32m      8\u001b[0m \u001b[0;34m\u001b[0m\u001b[0m\n\u001b[0;32m----> 9\u001b[0;31m \u001b[0mpokeApi\u001b[0m\u001b[0;34m.\u001b[0m\u001b[0mrequest\u001b[0m\u001b[0;34m(\u001b[0m\u001b[0;34m'GET'\u001b[0m\u001b[0;34m,\u001b[0m \u001b[0;34m'/api/v2/'\u001b[0m\u001b[0;34m)\u001b[0m\u001b[0;34m\u001b[0m\u001b[0;34m\u001b[0m\u001b[0m\n\u001b[0m\u001b[1;32m     10\u001b[0m \u001b[0;34m\u001b[0m\u001b[0m\n\u001b[1;32m     11\u001b[0m \u001b[0mresponse\u001b[0m \u001b[0;34m=\u001b[0m \u001b[0mpokeApi\u001b[0m\u001b[0;34m.\u001b[0m\u001b[0mgetresponse\u001b[0m\u001b[0;34m(\u001b[0m\u001b[0;34m)\u001b[0m\u001b[0;34m\u001b[0m\u001b[0;34m\u001b[0m\u001b[0m\n",
            "\u001b[0;32m/usr/lib/python3.7/http/client.py\u001b[0m in \u001b[0;36mrequest\u001b[0;34m(self, method, url, body, headers, encode_chunked)\u001b[0m\n\u001b[1;32m   1279\u001b[0m                 encode_chunked=False):\n\u001b[1;32m   1280\u001b[0m         \u001b[0;34m\"\"\"Send a complete request to the server.\"\"\"\u001b[0m\u001b[0;34m\u001b[0m\u001b[0;34m\u001b[0m\u001b[0m\n\u001b[0;32m-> 1281\u001b[0;31m         \u001b[0mself\u001b[0m\u001b[0;34m.\u001b[0m\u001b[0m_send_request\u001b[0m\u001b[0;34m(\u001b[0m\u001b[0mmethod\u001b[0m\u001b[0;34m,\u001b[0m \u001b[0murl\u001b[0m\u001b[0;34m,\u001b[0m \u001b[0mbody\u001b[0m\u001b[0;34m,\u001b[0m \u001b[0mheaders\u001b[0m\u001b[0;34m,\u001b[0m \u001b[0mencode_chunked\u001b[0m\u001b[0;34m)\u001b[0m\u001b[0;34m\u001b[0m\u001b[0;34m\u001b[0m\u001b[0m\n\u001b[0m\u001b[1;32m   1282\u001b[0m \u001b[0;34m\u001b[0m\u001b[0m\n\u001b[1;32m   1283\u001b[0m     \u001b[0;32mdef\u001b[0m \u001b[0m_send_request\u001b[0m\u001b[0;34m(\u001b[0m\u001b[0mself\u001b[0m\u001b[0;34m,\u001b[0m \u001b[0mmethod\u001b[0m\u001b[0;34m,\u001b[0m \u001b[0murl\u001b[0m\u001b[0;34m,\u001b[0m \u001b[0mbody\u001b[0m\u001b[0;34m,\u001b[0m \u001b[0mheaders\u001b[0m\u001b[0;34m,\u001b[0m \u001b[0mencode_chunked\u001b[0m\u001b[0;34m)\u001b[0m\u001b[0;34m:\u001b[0m\u001b[0;34m\u001b[0m\u001b[0;34m\u001b[0m\u001b[0m\n",
            "\u001b[0;32m/usr/lib/python3.7/http/client.py\u001b[0m in \u001b[0;36m_send_request\u001b[0;34m(self, method, url, body, headers, encode_chunked)\u001b[0m\n\u001b[1;32m   1325\u001b[0m             \u001b[0;31m# default charset of iso-8859-1.\u001b[0m\u001b[0;34m\u001b[0m\u001b[0;34m\u001b[0m\u001b[0;34m\u001b[0m\u001b[0m\n\u001b[1;32m   1326\u001b[0m             \u001b[0mbody\u001b[0m \u001b[0;34m=\u001b[0m \u001b[0m_encode\u001b[0m\u001b[0;34m(\u001b[0m\u001b[0mbody\u001b[0m\u001b[0;34m,\u001b[0m \u001b[0;34m'body'\u001b[0m\u001b[0;34m)\u001b[0m\u001b[0;34m\u001b[0m\u001b[0;34m\u001b[0m\u001b[0m\n\u001b[0;32m-> 1327\u001b[0;31m         \u001b[0mself\u001b[0m\u001b[0;34m.\u001b[0m\u001b[0mendheaders\u001b[0m\u001b[0;34m(\u001b[0m\u001b[0mbody\u001b[0m\u001b[0;34m,\u001b[0m \u001b[0mencode_chunked\u001b[0m\u001b[0;34m=\u001b[0m\u001b[0mencode_chunked\u001b[0m\u001b[0;34m)\u001b[0m\u001b[0;34m\u001b[0m\u001b[0;34m\u001b[0m\u001b[0m\n\u001b[0m\u001b[1;32m   1328\u001b[0m \u001b[0;34m\u001b[0m\u001b[0m\n\u001b[1;32m   1329\u001b[0m     \u001b[0;32mdef\u001b[0m \u001b[0mgetresponse\u001b[0m\u001b[0;34m(\u001b[0m\u001b[0mself\u001b[0m\u001b[0;34m)\u001b[0m\u001b[0;34m:\u001b[0m\u001b[0;34m\u001b[0m\u001b[0;34m\u001b[0m\u001b[0m\n",
            "\u001b[0;32m/usr/lib/python3.7/http/client.py\u001b[0m in \u001b[0;36mendheaders\u001b[0;34m(self, message_body, encode_chunked)\u001b[0m\n\u001b[1;32m   1274\u001b[0m         \u001b[0;32melse\u001b[0m\u001b[0;34m:\u001b[0m\u001b[0;34m\u001b[0m\u001b[0;34m\u001b[0m\u001b[0m\n\u001b[1;32m   1275\u001b[0m             \u001b[0;32mraise\u001b[0m \u001b[0mCannotSendHeader\u001b[0m\u001b[0;34m(\u001b[0m\u001b[0;34m)\u001b[0m\u001b[0;34m\u001b[0m\u001b[0;34m\u001b[0m\u001b[0m\n\u001b[0;32m-> 1276\u001b[0;31m         \u001b[0mself\u001b[0m\u001b[0;34m.\u001b[0m\u001b[0m_send_output\u001b[0m\u001b[0;34m(\u001b[0m\u001b[0mmessage_body\u001b[0m\u001b[0;34m,\u001b[0m \u001b[0mencode_chunked\u001b[0m\u001b[0;34m=\u001b[0m\u001b[0mencode_chunked\u001b[0m\u001b[0;34m)\u001b[0m\u001b[0;34m\u001b[0m\u001b[0;34m\u001b[0m\u001b[0m\n\u001b[0m\u001b[1;32m   1277\u001b[0m \u001b[0;34m\u001b[0m\u001b[0m\n\u001b[1;32m   1278\u001b[0m     def request(self, method, url, body=None, headers={}, *,\n",
            "\u001b[0;32m/usr/lib/python3.7/http/client.py\u001b[0m in \u001b[0;36m_send_output\u001b[0;34m(self, message_body, encode_chunked)\u001b[0m\n\u001b[1;32m   1034\u001b[0m         \u001b[0mmsg\u001b[0m \u001b[0;34m=\u001b[0m \u001b[0;34mb\"\\r\\n\"\u001b[0m\u001b[0;34m.\u001b[0m\u001b[0mjoin\u001b[0m\u001b[0;34m(\u001b[0m\u001b[0mself\u001b[0m\u001b[0;34m.\u001b[0m\u001b[0m_buffer\u001b[0m\u001b[0;34m)\u001b[0m\u001b[0;34m\u001b[0m\u001b[0;34m\u001b[0m\u001b[0m\n\u001b[1;32m   1035\u001b[0m         \u001b[0;32mdel\u001b[0m \u001b[0mself\u001b[0m\u001b[0;34m.\u001b[0m\u001b[0m_buffer\u001b[0m\u001b[0;34m[\u001b[0m\u001b[0;34m:\u001b[0m\u001b[0;34m]\u001b[0m\u001b[0;34m\u001b[0m\u001b[0;34m\u001b[0m\u001b[0m\n\u001b[0;32m-> 1036\u001b[0;31m         \u001b[0mself\u001b[0m\u001b[0;34m.\u001b[0m\u001b[0msend\u001b[0m\u001b[0;34m(\u001b[0m\u001b[0mmsg\u001b[0m\u001b[0;34m)\u001b[0m\u001b[0;34m\u001b[0m\u001b[0;34m\u001b[0m\u001b[0m\n\u001b[0m\u001b[1;32m   1037\u001b[0m \u001b[0;34m\u001b[0m\u001b[0m\n\u001b[1;32m   1038\u001b[0m         \u001b[0;32mif\u001b[0m \u001b[0mmessage_body\u001b[0m \u001b[0;32mis\u001b[0m \u001b[0;32mnot\u001b[0m \u001b[0;32mNone\u001b[0m\u001b[0;34m:\u001b[0m\u001b[0;34m\u001b[0m\u001b[0;34m\u001b[0m\u001b[0m\n",
            "\u001b[0;32m/usr/lib/python3.7/http/client.py\u001b[0m in \u001b[0;36msend\u001b[0;34m(self, data)\u001b[0m\n\u001b[1;32m    974\u001b[0m         \u001b[0;32mif\u001b[0m \u001b[0mself\u001b[0m\u001b[0;34m.\u001b[0m\u001b[0msock\u001b[0m \u001b[0;32mis\u001b[0m \u001b[0;32mNone\u001b[0m\u001b[0;34m:\u001b[0m\u001b[0;34m\u001b[0m\u001b[0;34m\u001b[0m\u001b[0m\n\u001b[1;32m    975\u001b[0m             \u001b[0;32mif\u001b[0m \u001b[0mself\u001b[0m\u001b[0;34m.\u001b[0m\u001b[0mauto_open\u001b[0m\u001b[0;34m:\u001b[0m\u001b[0;34m\u001b[0m\u001b[0;34m\u001b[0m\u001b[0m\n\u001b[0;32m--> 976\u001b[0;31m                 \u001b[0mself\u001b[0m\u001b[0;34m.\u001b[0m\u001b[0mconnect\u001b[0m\u001b[0;34m(\u001b[0m\u001b[0;34m)\u001b[0m\u001b[0;34m\u001b[0m\u001b[0;34m\u001b[0m\u001b[0m\n\u001b[0m\u001b[1;32m    977\u001b[0m             \u001b[0;32melse\u001b[0m\u001b[0;34m:\u001b[0m\u001b[0;34m\u001b[0m\u001b[0;34m\u001b[0m\u001b[0m\n\u001b[1;32m    978\u001b[0m                 \u001b[0;32mraise\u001b[0m \u001b[0mNotConnected\u001b[0m\u001b[0;34m(\u001b[0m\u001b[0;34m)\u001b[0m\u001b[0;34m\u001b[0m\u001b[0;34m\u001b[0m\u001b[0m\n",
            "\u001b[0;32m/usr/lib/python3.7/http/client.py\u001b[0m in \u001b[0;36mconnect\u001b[0;34m(self)\u001b[0m\n\u001b[1;32m   1441\u001b[0m             \u001b[0;34m\"Connect to a host on a given (SSL) port.\"\u001b[0m\u001b[0;34m\u001b[0m\u001b[0;34m\u001b[0m\u001b[0m\n\u001b[1;32m   1442\u001b[0m \u001b[0;34m\u001b[0m\u001b[0m\n\u001b[0;32m-> 1443\u001b[0;31m             \u001b[0msuper\u001b[0m\u001b[0;34m(\u001b[0m\u001b[0;34m)\u001b[0m\u001b[0;34m.\u001b[0m\u001b[0mconnect\u001b[0m\u001b[0;34m(\u001b[0m\u001b[0;34m)\u001b[0m\u001b[0;34m\u001b[0m\u001b[0;34m\u001b[0m\u001b[0m\n\u001b[0m\u001b[1;32m   1444\u001b[0m \u001b[0;34m\u001b[0m\u001b[0m\n\u001b[1;32m   1445\u001b[0m             \u001b[0;32mif\u001b[0m \u001b[0mself\u001b[0m\u001b[0;34m.\u001b[0m\u001b[0m_tunnel_host\u001b[0m\u001b[0;34m:\u001b[0m\u001b[0;34m\u001b[0m\u001b[0;34m\u001b[0m\u001b[0m\n",
            "\u001b[0;32m/usr/lib/python3.7/http/client.py\u001b[0m in \u001b[0;36mconnect\u001b[0;34m(self)\u001b[0m\n\u001b[1;32m    946\u001b[0m         \u001b[0;34m\"\"\"Connect to the host and port specified in __init__.\"\"\"\u001b[0m\u001b[0;34m\u001b[0m\u001b[0;34m\u001b[0m\u001b[0m\n\u001b[1;32m    947\u001b[0m         self.sock = self._create_connection(\n\u001b[0;32m--> 948\u001b[0;31m             (self.host,self.port), self.timeout, self.source_address)\n\u001b[0m\u001b[1;32m    949\u001b[0m         \u001b[0mself\u001b[0m\u001b[0;34m.\u001b[0m\u001b[0msock\u001b[0m\u001b[0;34m.\u001b[0m\u001b[0msetsockopt\u001b[0m\u001b[0;34m(\u001b[0m\u001b[0msocket\u001b[0m\u001b[0;34m.\u001b[0m\u001b[0mIPPROTO_TCP\u001b[0m\u001b[0;34m,\u001b[0m \u001b[0msocket\u001b[0m\u001b[0;34m.\u001b[0m\u001b[0mTCP_NODELAY\u001b[0m\u001b[0;34m,\u001b[0m \u001b[0;36m1\u001b[0m\u001b[0;34m)\u001b[0m\u001b[0;34m\u001b[0m\u001b[0;34m\u001b[0m\u001b[0m\n\u001b[1;32m    950\u001b[0m \u001b[0;34m\u001b[0m\u001b[0m\n",
            "\u001b[0;32m/usr/lib/python3.7/socket.py\u001b[0m in \u001b[0;36mcreate_connection\u001b[0;34m(address, timeout, source_address)\u001b[0m\n\u001b[1;32m    705\u001b[0m     \u001b[0mhost\u001b[0m\u001b[0;34m,\u001b[0m \u001b[0mport\u001b[0m \u001b[0;34m=\u001b[0m \u001b[0maddress\u001b[0m\u001b[0;34m\u001b[0m\u001b[0;34m\u001b[0m\u001b[0m\n\u001b[1;32m    706\u001b[0m     \u001b[0merr\u001b[0m \u001b[0;34m=\u001b[0m \u001b[0;32mNone\u001b[0m\u001b[0;34m\u001b[0m\u001b[0;34m\u001b[0m\u001b[0m\n\u001b[0;32m--> 707\u001b[0;31m     \u001b[0;32mfor\u001b[0m \u001b[0mres\u001b[0m \u001b[0;32min\u001b[0m \u001b[0mgetaddrinfo\u001b[0m\u001b[0;34m(\u001b[0m\u001b[0mhost\u001b[0m\u001b[0;34m,\u001b[0m \u001b[0mport\u001b[0m\u001b[0;34m,\u001b[0m \u001b[0;36m0\u001b[0m\u001b[0;34m,\u001b[0m \u001b[0mSOCK_STREAM\u001b[0m\u001b[0;34m)\u001b[0m\u001b[0;34m:\u001b[0m\u001b[0;34m\u001b[0m\u001b[0;34m\u001b[0m\u001b[0m\n\u001b[0m\u001b[1;32m    708\u001b[0m         \u001b[0maf\u001b[0m\u001b[0;34m,\u001b[0m \u001b[0msocktype\u001b[0m\u001b[0;34m,\u001b[0m \u001b[0mproto\u001b[0m\u001b[0;34m,\u001b[0m \u001b[0mcanonname\u001b[0m\u001b[0;34m,\u001b[0m \u001b[0msa\u001b[0m \u001b[0;34m=\u001b[0m \u001b[0mres\u001b[0m\u001b[0;34m\u001b[0m\u001b[0;34m\u001b[0m\u001b[0m\n\u001b[1;32m    709\u001b[0m         \u001b[0msock\u001b[0m \u001b[0;34m=\u001b[0m \u001b[0;32mNone\u001b[0m\u001b[0;34m\u001b[0m\u001b[0;34m\u001b[0m\u001b[0m\n",
            "\u001b[0;32m/usr/lib/python3.7/socket.py\u001b[0m in \u001b[0;36mgetaddrinfo\u001b[0;34m(host, port, family, type, proto, flags)\u001b[0m\n\u001b[1;32m    750\u001b[0m     \u001b[0;31m# and socket type values to enum constants.\u001b[0m\u001b[0;34m\u001b[0m\u001b[0;34m\u001b[0m\u001b[0;34m\u001b[0m\u001b[0m\n\u001b[1;32m    751\u001b[0m     \u001b[0maddrlist\u001b[0m \u001b[0;34m=\u001b[0m \u001b[0;34m[\u001b[0m\u001b[0;34m]\u001b[0m\u001b[0;34m\u001b[0m\u001b[0;34m\u001b[0m\u001b[0m\n\u001b[0;32m--> 752\u001b[0;31m     \u001b[0;32mfor\u001b[0m \u001b[0mres\u001b[0m \u001b[0;32min\u001b[0m \u001b[0m_socket\u001b[0m\u001b[0;34m.\u001b[0m\u001b[0mgetaddrinfo\u001b[0m\u001b[0;34m(\u001b[0m\u001b[0mhost\u001b[0m\u001b[0;34m,\u001b[0m \u001b[0mport\u001b[0m\u001b[0;34m,\u001b[0m \u001b[0mfamily\u001b[0m\u001b[0;34m,\u001b[0m \u001b[0mtype\u001b[0m\u001b[0;34m,\u001b[0m \u001b[0mproto\u001b[0m\u001b[0;34m,\u001b[0m \u001b[0mflags\u001b[0m\u001b[0;34m)\u001b[0m\u001b[0;34m:\u001b[0m\u001b[0;34m\u001b[0m\u001b[0;34m\u001b[0m\u001b[0m\n\u001b[0m\u001b[1;32m    753\u001b[0m         \u001b[0maf\u001b[0m\u001b[0;34m,\u001b[0m \u001b[0msocktype\u001b[0m\u001b[0;34m,\u001b[0m \u001b[0mproto\u001b[0m\u001b[0;34m,\u001b[0m \u001b[0mcanonname\u001b[0m\u001b[0;34m,\u001b[0m \u001b[0msa\u001b[0m \u001b[0;34m=\u001b[0m \u001b[0mres\u001b[0m\u001b[0;34m\u001b[0m\u001b[0;34m\u001b[0m\u001b[0m\n\u001b[1;32m    754\u001b[0m         addrlist.append((_intenum_converter(af, AddressFamily),\n",
            "\u001b[0;31mgaierror\u001b[0m: [Errno -2] Name or service not known"
          ]
        }
      ]
    }
  ]
}