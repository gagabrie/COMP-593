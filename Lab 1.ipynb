{
  "nbformat": 4,
  "nbformat_minor": 0,
  "metadata": {
    "colab": {
      "name": "WEEK 1 WELCOME TO COLAB",
      "provenance": [],
      "collapsed_sections": [],
      "toc_visible": true,
      "include_colab_link": true
    },
    "kernelspec": {
      "display_name": "Python 3",
      "name": "python3"
    }
  },
  "cells": [
    {
      "cell_type": "markdown",
      "metadata": {
        "id": "view-in-github",
        "colab_type": "text"
      },
      "source": [
        "<a href=\"https://colab.research.google.com/github/gagabrie/COMP-593/blob/main/Lab%201.ipynb\" target=\"_parent\"><img src=\"https://colab.research.google.com/assets/colab-badge.svg\" alt=\"Open In Colab\"/></a>"
      ]
    },
    {
      "cell_type": "markdown",
      "metadata": {
        "id": "GJBs_flRovLc"
      },
      "source": [
        "## **Welcome to COMP 593!**\n",
        "\n",
        "For your first lab, we will experiment with running a script, and saving our project to our personal github repositories:"
      ]
    },
    {
      "cell_type": "markdown",
      "metadata": {
        "id": "xn279PBwVnDj"
      },
      "source": [
        "##Installing Dependancies##\n",
        "\n",
        "Dependancies are routines, Objects, and methods that a project requires. We add Dependancies to our project in the form of **Libraries** when we want to unlock functionality that already exists, this could be as simple as file IO or as complex as fully fledged Machine Learning libraries. Libraries can be added to our project manually, by downloading them and placing them in our runtime enviornment, or using a **Package Manager** such as PIP."
      ]
    },
    {
      "cell_type": "markdown",
      "metadata": {
        "id": "-IWb3REjW5T0"
      },
      "source": [
        "Run the below code to download the **pyfiglet** library, which we will use to generate some ASCII art."
      ]
    },
    {
      "cell_type": "code",
      "metadata": {
        "id": "ARUZhh6MS7nA",
        "colab": {
          "base_uri": "https://localhost:8080/"
        },
        "outputId": "fc1abd02-ba6d-4fa7-9927-5a03bbef4b87"
      },
      "source": [
        "pip install pyfiglet\n"
      ],
      "execution_count": 1,
      "outputs": [
        {
          "output_type": "stream",
          "name": "stdout",
          "text": [
            "Collecting pyfiglet\n",
            "  Downloading pyfiglet-0.8.post1-py2.py3-none-any.whl (865 kB)\n",
            "\u001b[?25l\r\u001b[K     |▍                               | 10 kB 19.7 MB/s eta 0:00:01\r\u001b[K     |▊                               | 20 kB 9.6 MB/s eta 0:00:01\r\u001b[K     |█▏                              | 30 kB 8.1 MB/s eta 0:00:01\r\u001b[K     |█▌                              | 40 kB 7.5 MB/s eta 0:00:01\r\u001b[K     |██                              | 51 kB 5.3 MB/s eta 0:00:01\r\u001b[K     |██▎                             | 61 kB 5.4 MB/s eta 0:00:01\r\u001b[K     |██▋                             | 71 kB 5.5 MB/s eta 0:00:01\r\u001b[K     |███                             | 81 kB 6.1 MB/s eta 0:00:01\r\u001b[K     |███▍                            | 92 kB 5.0 MB/s eta 0:00:01\r\u001b[K     |███▉                            | 102 kB 5.4 MB/s eta 0:00:01\r\u001b[K     |████▏                           | 112 kB 5.4 MB/s eta 0:00:01\r\u001b[K     |████▌                           | 122 kB 5.4 MB/s eta 0:00:01\r\u001b[K     |█████                           | 133 kB 5.4 MB/s eta 0:00:01\r\u001b[K     |█████▎                          | 143 kB 5.4 MB/s eta 0:00:01\r\u001b[K     |█████▊                          | 153 kB 5.4 MB/s eta 0:00:01\r\u001b[K     |██████                          | 163 kB 5.4 MB/s eta 0:00:01\r\u001b[K     |██████▍                         | 174 kB 5.4 MB/s eta 0:00:01\r\u001b[K     |██████▉                         | 184 kB 5.4 MB/s eta 0:00:01\r\u001b[K     |███████▏                        | 194 kB 5.4 MB/s eta 0:00:01\r\u001b[K     |███████▋                        | 204 kB 5.4 MB/s eta 0:00:01\r\u001b[K     |████████                        | 215 kB 5.4 MB/s eta 0:00:01\r\u001b[K     |████████▎                       | 225 kB 5.4 MB/s eta 0:00:01\r\u001b[K     |████████▊                       | 235 kB 5.4 MB/s eta 0:00:01\r\u001b[K     |█████████                       | 245 kB 5.4 MB/s eta 0:00:01\r\u001b[K     |█████████▌                      | 256 kB 5.4 MB/s eta 0:00:01\r\u001b[K     |█████████▉                      | 266 kB 5.4 MB/s eta 0:00:01\r\u001b[K     |██████████▏                     | 276 kB 5.4 MB/s eta 0:00:01\r\u001b[K     |██████████▋                     | 286 kB 5.4 MB/s eta 0:00:01\r\u001b[K     |███████████                     | 296 kB 5.4 MB/s eta 0:00:01\r\u001b[K     |███████████▍                    | 307 kB 5.4 MB/s eta 0:00:01\r\u001b[K     |███████████▊                    | 317 kB 5.4 MB/s eta 0:00:01\r\u001b[K     |████████████                    | 327 kB 5.4 MB/s eta 0:00:01\r\u001b[K     |████████████▌                   | 337 kB 5.4 MB/s eta 0:00:01\r\u001b[K     |████████████▉                   | 348 kB 5.4 MB/s eta 0:00:01\r\u001b[K     |█████████████▎                  | 358 kB 5.4 MB/s eta 0:00:01\r\u001b[K     |█████████████▋                  | 368 kB 5.4 MB/s eta 0:00:01\r\u001b[K     |██████████████                  | 378 kB 5.4 MB/s eta 0:00:01\r\u001b[K     |██████████████▍                 | 389 kB 5.4 MB/s eta 0:00:01\r\u001b[K     |██████████████▊                 | 399 kB 5.4 MB/s eta 0:00:01\r\u001b[K     |███████████████▏                | 409 kB 5.4 MB/s eta 0:00:01\r\u001b[K     |███████████████▌                | 419 kB 5.4 MB/s eta 0:00:01\r\u001b[K     |████████████████                | 430 kB 5.4 MB/s eta 0:00:01\r\u001b[K     |████████████████▎               | 440 kB 5.4 MB/s eta 0:00:01\r\u001b[K     |████████████████▋               | 450 kB 5.4 MB/s eta 0:00:01\r\u001b[K     |█████████████████               | 460 kB 5.4 MB/s eta 0:00:01\r\u001b[K     |█████████████████▍              | 471 kB 5.4 MB/s eta 0:00:01\r\u001b[K     |█████████████████▉              | 481 kB 5.4 MB/s eta 0:00:01\r\u001b[K     |██████████████████▏             | 491 kB 5.4 MB/s eta 0:00:01\r\u001b[K     |██████████████████▌             | 501 kB 5.4 MB/s eta 0:00:01\r\u001b[K     |███████████████████             | 512 kB 5.4 MB/s eta 0:00:01\r\u001b[K     |███████████████████▎            | 522 kB 5.4 MB/s eta 0:00:01\r\u001b[K     |███████████████████▊            | 532 kB 5.4 MB/s eta 0:00:01\r\u001b[K     |████████████████████            | 542 kB 5.4 MB/s eta 0:00:01\r\u001b[K     |████████████████████▍           | 552 kB 5.4 MB/s eta 0:00:01\r\u001b[K     |████████████████████▉           | 563 kB 5.4 MB/s eta 0:00:01\r\u001b[K     |█████████████████████▏          | 573 kB 5.4 MB/s eta 0:00:01\r\u001b[K     |█████████████████████▋          | 583 kB 5.4 MB/s eta 0:00:01\r\u001b[K     |██████████████████████          | 593 kB 5.4 MB/s eta 0:00:01\r\u001b[K     |██████████████████████▎         | 604 kB 5.4 MB/s eta 0:00:01\r\u001b[K     |██████████████████████▊         | 614 kB 5.4 MB/s eta 0:00:01\r\u001b[K     |███████████████████████         | 624 kB 5.4 MB/s eta 0:00:01\r\u001b[K     |███████████████████████▌        | 634 kB 5.4 MB/s eta 0:00:01\r\u001b[K     |███████████████████████▉        | 645 kB 5.4 MB/s eta 0:00:01\r\u001b[K     |████████████████████████▏       | 655 kB 5.4 MB/s eta 0:00:01\r\u001b[K     |████████████████████████▋       | 665 kB 5.4 MB/s eta 0:00:01\r\u001b[K     |█████████████████████████       | 675 kB 5.4 MB/s eta 0:00:01\r\u001b[K     |█████████████████████████▍      | 686 kB 5.4 MB/s eta 0:00:01\r\u001b[K     |█████████████████████████▊      | 696 kB 5.4 MB/s eta 0:00:01\r\u001b[K     |██████████████████████████▏     | 706 kB 5.4 MB/s eta 0:00:01\r\u001b[K     |██████████████████████████▌     | 716 kB 5.4 MB/s eta 0:00:01\r\u001b[K     |██████████████████████████▉     | 727 kB 5.4 MB/s eta 0:00:01\r\u001b[K     |███████████████████████████▎    | 737 kB 5.4 MB/s eta 0:00:01\r\u001b[K     |███████████████████████████▋    | 747 kB 5.4 MB/s eta 0:00:01\r\u001b[K     |████████████████████████████    | 757 kB 5.4 MB/s eta 0:00:01\r\u001b[K     |████████████████████████████▍   | 768 kB 5.4 MB/s eta 0:00:01\r\u001b[K     |████████████████████████████▊   | 778 kB 5.4 MB/s eta 0:00:01\r\u001b[K     |█████████████████████████████▏  | 788 kB 5.4 MB/s eta 0:00:01\r\u001b[K     |█████████████████████████████▌  | 798 kB 5.4 MB/s eta 0:00:01\r\u001b[K     |██████████████████████████████  | 808 kB 5.4 MB/s eta 0:00:01\r\u001b[K     |██████████████████████████████▎ | 819 kB 5.4 MB/s eta 0:00:01\r\u001b[K     |██████████████████████████████▋ | 829 kB 5.4 MB/s eta 0:00:01\r\u001b[K     |███████████████████████████████ | 839 kB 5.4 MB/s eta 0:00:01\r\u001b[K     |███████████████████████████████▍| 849 kB 5.4 MB/s eta 0:00:01\r\u001b[K     |███████████████████████████████▉| 860 kB 5.4 MB/s eta 0:00:01\r\u001b[K     |████████████████████████████████| 865 kB 5.4 MB/s \n",
            "\u001b[?25hInstalling collected packages: pyfiglet\n",
            "Successfully installed pyfiglet-0.8.post1\n"
          ]
        }
      ]
    },
    {
      "cell_type": "markdown",
      "metadata": {
        "id": "SNXKhb5XXqF4"
      },
      "source": [
        "There are *hundreds of thousands* of python libraries at your disposal. Some may suit your needs better than others depending on the goals of your scripts or applications. The [PyPi Repository](https://https://pypi.org/) contains a serchable database of packages that are installable via the pip package manager.\n",
        "\n",
        "Run the code below to get an idea of the number of packages that are included for your user within Colab. You don't need to know what all of these do, but it should indicate that python is a very powerful language."
      ]
    },
    {
      "cell_type": "code",
      "metadata": {
        "id": "C7A8viiJXiDs",
        "outputId": "1e4744fe-6f16-41e9-fcb1-a2eec4cea91e",
        "colab": {
          "base_uri": "https://localhost:8080/"
        }
      },
      "source": [
        "pip list"
      ],
      "execution_count": null,
      "outputs": [
        {
          "output_type": "stream",
          "name": "stdout",
          "text": [
            "Package                       Version\n",
            "----------------------------- --------------\n",
            "absl-py                       1.0.0\n",
            "alabaster                     0.7.12\n",
            "albumentations                0.1.12\n",
            "altair                        4.2.0\n",
            "appdirs                       1.4.4\n",
            "argon2-cffi                   21.3.0\n",
            "argon2-cffi-bindings          21.2.0\n",
            "arviz                         0.11.4\n",
            "astor                         0.8.1\n",
            "astropy                       4.3.1\n",
            "astunparse                    1.6.3\n",
            "atari-py                      0.2.9\n",
            "atomicwrites                  1.4.0\n",
            "attrs                         21.4.0\n",
            "audioread                     2.1.9\n",
            "autograd                      1.3\n",
            "Babel                         2.9.1\n",
            "backcall                      0.2.0\n",
            "beautifulsoup4                4.6.3\n",
            "bleach                        4.1.0\n",
            "blis                          0.4.1\n",
            "bokeh                         2.3.3\n",
            "Bottleneck                    1.3.2\n",
            "branca                        0.4.2\n",
            "bs4                           0.0.1\n",
            "CacheControl                  0.12.10\n",
            "cached-property               1.5.2\n",
            "cachetools                    4.2.4\n",
            "catalogue                     1.0.0\n",
            "certifi                       2021.10.8\n",
            "cffi                          1.15.0\n",
            "cftime                        1.5.2\n",
            "chardet                       3.0.4\n",
            "charset-normalizer            2.0.11\n",
            "click                         7.1.2\n",
            "cloudpickle                   1.3.0\n",
            "cmake                         3.12.0\n",
            "cmdstanpy                     0.9.5\n",
            "colorcet                      3.0.0\n",
            "colorlover                    0.3.0\n",
            "community                     1.0.0b1\n",
            "contextlib2                   0.5.5\n",
            "convertdate                   2.4.0\n",
            "coverage                      3.7.1\n",
            "coveralls                     0.5\n",
            "crcmod                        1.7\n",
            "cufflinks                     0.17.3\n",
            "cvxopt                        1.2.7\n",
            "cvxpy                         1.0.31\n",
            "cycler                        0.11.0\n",
            "cymem                         2.0.6\n",
            "Cython                        0.29.27\n",
            "daft                          0.0.4\n",
            "dask                          2.12.0\n",
            "datascience                   0.10.6\n",
            "debugpy                       1.0.0\n",
            "decorator                     4.4.2\n",
            "defusedxml                    0.7.1\n",
            "descartes                     1.1.0\n",
            "dill                          0.3.4\n",
            "distributed                   1.25.3\n",
            "dlib                          19.18.0\n",
            "dm-tree                       0.1.6\n",
            "docopt                        0.6.2\n",
            "docutils                      0.17.1\n",
            "dopamine-rl                   1.0.5\n",
            "earthengine-api               0.1.296\n",
            "easydict                      1.9\n",
            "ecos                          2.0.10\n",
            "editdistance                  0.5.3\n",
            "en-core-web-sm                2.2.5\n",
            "entrypoints                   0.4\n",
            "ephem                         4.1.3\n",
            "et-xmlfile                    1.1.0\n",
            "fa2                           0.3.5\n",
            "fastai                        1.0.61\n",
            "fastdtw                       0.3.4\n",
            "fastprogress                  1.0.0\n",
            "fastrlock                     0.8\n",
            "fbprophet                     0.7.1\n",
            "feather-format                0.4.1\n",
            "filelock                      3.4.2\n",
            "firebase-admin                4.4.0\n",
            "fix-yahoo-finance             0.0.22\n",
            "Flask                         1.1.4\n",
            "flatbuffers                   2.0\n",
            "folium                        0.8.3\n",
            "future                        0.16.0\n",
            "gast                          0.4.0\n",
            "GDAL                          2.2.2\n",
            "gdown                         4.2.1\n",
            "gensim                        3.6.0\n",
            "geographiclib                 1.52\n",
            "geopy                         1.17.0\n",
            "gin-config                    0.5.0\n",
            "glob2                         0.7\n",
            "google                        2.0.3\n",
            "google-api-core               1.26.3\n",
            "google-api-python-client      1.12.10\n",
            "google-auth                   1.35.0\n",
            "google-auth-httplib2          0.0.4\n",
            "google-auth-oauthlib          0.4.6\n",
            "google-cloud-bigquery         1.21.0\n",
            "google-cloud-bigquery-storage 1.1.0\n",
            "google-cloud-core             1.0.3\n",
            "google-cloud-datastore        1.8.0\n",
            "google-cloud-firestore        1.7.0\n",
            "google-cloud-language         1.2.0\n",
            "google-cloud-storage          1.18.1\n",
            "google-cloud-translate        1.5.0\n",
            "google-colab                  1.0.0\n",
            "google-pasta                  0.2.0\n",
            "google-resumable-media        0.4.1\n",
            "googleapis-common-protos      1.54.0\n",
            "googledrivedownloader         0.4\n",
            "graphviz                      0.10.1\n",
            "greenlet                      1.1.2\n",
            "grpcio                        1.43.0\n",
            "gspread                       3.4.2\n",
            "gspread-dataframe             3.0.8\n",
            "gym                           0.17.3\n",
            "h5py                          3.1.0\n",
            "HeapDict                      1.0.1\n",
            "hijri-converter               2.2.2\n",
            "holidays                      0.10.5.2\n",
            "holoviews                     1.14.7\n",
            "html5lib                      1.0.1\n",
            "httpimport                    0.5.18\n",
            "httplib2                      0.17.4\n",
            "httplib2shim                  0.0.3\n",
            "humanize                      0.5.1\n",
            "hyperopt                      0.1.2\n",
            "ideep4py                      2.0.0.post3\n",
            "idna                          2.10\n",
            "imageio                       2.4.1\n",
            "imagesize                     1.3.0\n",
            "imbalanced-learn              0.8.1\n",
            "imblearn                      0.0\n",
            "imgaug                        0.2.9\n",
            "importlib-metadata            4.10.1\n",
            "importlib-resources           5.4.0\n",
            "imutils                       0.5.4\n",
            "inflect                       2.1.0\n",
            "iniconfig                     1.1.1\n",
            "intel-openmp                  2022.0.2\n",
            "intervaltree                  2.1.0\n",
            "ipykernel                     4.10.1\n",
            "ipython                       5.5.0\n",
            "ipython-genutils              0.2.0\n",
            "ipython-sql                   0.3.9\n",
            "ipywidgets                    7.6.5\n",
            "itsdangerous                  1.1.0\n",
            "jax                           0.2.25\n",
            "jaxlib                        0.1.71+cuda111\n",
            "jedi                          0.18.1\n",
            "jieba                         0.42.1\n",
            "Jinja2                        2.11.3\n",
            "joblib                        1.1.0\n",
            "jpeg4py                       0.1.4\n",
            "jsonschema                    4.3.3\n",
            "jupyter                       1.0.0\n",
            "jupyter-client                5.3.5\n",
            "jupyter-console               5.2.0\n",
            "jupyter-core                  4.9.1\n",
            "jupyterlab-pygments           0.1.2\n",
            "jupyterlab-widgets            1.0.2\n",
            "kaggle                        1.5.12\n",
            "kapre                         0.3.7\n",
            "keras                         2.7.0\n",
            "Keras-Preprocessing           1.1.2\n",
            "keras-vis                     0.4.1\n",
            "kiwisolver                    1.3.2\n",
            "korean-lunar-calendar         0.2.1\n",
            "libclang                      13.0.0\n",
            "librosa                       0.8.1\n",
            "lightgbm                      2.2.3\n",
            "llvmlite                      0.34.0\n",
            "lmdb                          0.99\n",
            "LunarCalendar                 0.0.9\n",
            "lxml                          4.2.6\n",
            "Markdown                      3.3.6\n",
            "MarkupSafe                    2.0.1\n",
            "matplotlib                    3.2.2\n",
            "matplotlib-inline             0.1.3\n",
            "matplotlib-venn               0.11.6\n",
            "missingno                     0.5.0\n",
            "mistune                       0.8.4\n",
            "mizani                        0.6.0\n",
            "mkl                           2019.0\n",
            "mlxtend                       0.14.0\n",
            "more-itertools                8.12.0\n",
            "moviepy                       0.2.3.5\n",
            "mpmath                        1.2.1\n",
            "msgpack                       1.0.3\n",
            "multiprocess                  0.70.12.2\n",
            "multitasking                  0.0.10\n",
            "murmurhash                    1.0.6\n",
            "music21                       5.5.0\n",
            "natsort                       5.5.0\n",
            "nbclient                      0.5.10\n",
            "nbconvert                     5.6.1\n",
            "nbformat                      5.1.3\n",
            "nest-asyncio                  1.5.4\n",
            "netCDF4                       1.5.8\n",
            "networkx                      2.6.3\n",
            "nibabel                       3.0.2\n",
            "nltk                          3.2.5\n",
            "notebook                      5.3.1\n",
            "numba                         0.51.2\n",
            "numexpr                       2.8.1\n",
            "numpy                         1.19.5\n",
            "nvidia-ml-py3                 7.352.0\n",
            "oauth2client                  4.1.3\n",
            "oauthlib                      3.2.0\n",
            "okgrade                       0.4.3\n",
            "opencv-contrib-python         4.1.2.30\n",
            "opencv-python                 4.1.2.30\n",
            "openpyxl                      3.0.9\n",
            "opt-einsum                    3.3.0\n",
            "osqp                          0.6.2.post0\n",
            "packaging                     21.3\n",
            "palettable                    3.3.0\n",
            "pandas                        1.3.5\n",
            "pandas-datareader             0.9.0\n",
            "pandas-gbq                    0.13.3\n",
            "pandas-profiling              1.4.1\n",
            "pandocfilters                 1.5.0\n",
            "panel                         0.12.1\n",
            "param                         1.12.0\n",
            "parso                         0.8.3\n",
            "pathlib                       1.0.1\n",
            "patsy                         0.5.2\n",
            "pep517                        0.12.0\n",
            "pexpect                       4.8.0\n",
            "pickleshare                   0.7.5\n",
            "Pillow                        7.1.2\n",
            "pip                           21.1.3\n",
            "pip-tools                     6.2.0\n",
            "plac                          1.1.3\n",
            "plotly                        5.5.0\n",
            "plotnine                      0.6.0\n",
            "pluggy                        0.7.1\n",
            "pooch                         1.6.0\n",
            "portpicker                    1.3.9\n",
            "prefetch-generator            1.0.1\n",
            "preshed                       3.0.6\n",
            "prettytable                   3.0.0\n",
            "progressbar2                  3.38.0\n",
            "prometheus-client             0.13.1\n",
            "promise                       2.3\n",
            "prompt-toolkit                1.0.18\n",
            "protobuf                      3.17.3\n",
            "psutil                        5.4.8\n",
            "psycopg2                      2.7.6.1\n",
            "ptyprocess                    0.7.0\n",
            "py                            1.11.0\n",
            "pyarrow                       6.0.1\n",
            "pyasn1                        0.4.8\n",
            "pyasn1-modules                0.2.8\n",
            "pycocotools                   2.0.4\n",
            "pycparser                     2.21\n",
            "pyct                          0.4.8\n",
            "pydata-google-auth            1.3.0\n",
            "pydot                         1.3.0\n",
            "pydot-ng                      2.0.0\n",
            "pydotplus                     2.0.2\n",
            "PyDrive                       1.3.1\n",
            "pyemd                         0.5.1\n",
            "pyerfa                        2.0.0.1\n",
            "pyglet                        1.5.0\n",
            "Pygments                      2.6.1\n",
            "pygobject                     3.26.1\n",
            "pymc3                         3.11.4\n",
            "PyMeeus                       0.5.11\n",
            "pymongo                       4.0.1\n",
            "pymystem3                     0.2.0\n",
            "PyOpenGL                      3.1.5\n",
            "pyparsing                     3.0.7\n",
            "pyrsistent                    0.18.1\n",
            "pysndfile                     1.3.8\n",
            "PySocks                       1.7.1\n",
            "pystan                        2.19.1.1\n",
            "pytest                        3.6.4\n",
            "python-apt                    0.0.0\n",
            "python-chess                  0.23.11\n",
            "python-dateutil               2.8.2\n",
            "python-louvain                0.16\n",
            "python-slugify                5.0.2\n",
            "python-utils                  3.1.0\n",
            "pytz                          2018.9\n",
            "pyviz-comms                   2.1.0\n",
            "PyWavelets                    1.2.0\n",
            "PyYAML                        3.13\n",
            "pyzmq                         22.3.0\n",
            "qdldl                         0.1.5.post0\n",
            "qtconsole                     5.2.2\n",
            "QtPy                          2.0.1\n",
            "regex                         2019.12.20\n",
            "requests                      2.23.0\n",
            "requests-oauthlib             1.3.1\n",
            "resampy                       0.2.2\n",
            "rpy2                          3.4.5\n",
            "rsa                           4.8\n",
            "scikit-image                  0.18.3\n",
            "scikit-learn                  1.0.2\n",
            "scipy                         1.4.1\n",
            "screen-resolution-extra       0.0.0\n",
            "scs                           3.1.0\n",
            "seaborn                       0.11.2\n",
            "semver                        2.13.0\n",
            "Send2Trash                    1.8.0\n",
            "setuptools                    57.4.0\n",
            "setuptools-git                1.2\n",
            "Shapely                       1.8.0\n",
            "simplegeneric                 0.8.1\n",
            "six                           1.15.0\n",
            "sklearn                       0.0\n",
            "sklearn-pandas                1.8.0\n",
            "smart-open                    5.2.1\n",
            "snowballstemmer               2.2.0\n",
            "sortedcontainers              2.4.0\n",
            "SoundFile                     0.10.3.post1\n",
            "spacy                         2.2.4\n",
            "Sphinx                        1.8.6\n",
            "sphinxcontrib-serializinghtml 1.1.5\n",
            "sphinxcontrib-websupport      1.2.4\n",
            "SQLAlchemy                    1.4.31\n",
            "sqlparse                      0.4.2\n",
            "srsly                         1.0.5\n",
            "statsmodels                   0.10.2\n",
            "sympy                         1.7.1\n",
            "tables                        3.4.4\n",
            "tabulate                      0.8.9\n",
            "tblib                         1.7.0\n",
            "tenacity                      8.0.1\n",
            "tensorboard                   2.7.0\n",
            "tensorboard-data-server       0.6.1\n",
            "tensorboard-plugin-wit        1.8.1\n",
            "tensorflow                    2.7.0\n",
            "tensorflow-datasets           4.0.1\n",
            "tensorflow-estimator          2.7.0\n",
            "tensorflow-gcs-config         2.7.0\n",
            "tensorflow-hub                0.12.0\n",
            "tensorflow-io-gcs-filesystem  0.23.1\n",
            "tensorflow-metadata           1.6.0\n",
            "tensorflow-probability        0.15.0\n",
            "termcolor                     1.1.0\n",
            "terminado                     0.13.1\n",
            "testpath                      0.5.0\n",
            "text-unidecode                1.3\n",
            "textblob                      0.15.3\n",
            "Theano-PyMC                   1.1.2\n",
            "thinc                         7.4.0\n",
            "threadpoolctl                 3.1.0\n",
            "tifffile                      2021.11.2\n",
            "toml                          0.10.2\n",
            "tomli                         2.0.0\n",
            "toolz                         0.11.2\n",
            "torch                         1.10.0+cu111\n",
            "torchaudio                    0.10.0+cu111\n",
            "torchsummary                  1.5.1\n",
            "torchtext                     0.11.0\n",
            "torchvision                   0.11.1+cu111\n",
            "tornado                       5.1.1\n",
            "tqdm                          4.62.3\n",
            "traitlets                     5.1.1\n",
            "tweepy                        3.10.0\n",
            "typeguard                     2.7.1\n",
            "typing-extensions             3.10.0.2\n",
            "tzlocal                       1.5.1\n",
            "uritemplate                   3.0.1\n",
            "urllib3                       1.24.3\n",
            "vega-datasets                 0.9.0\n",
            "wasabi                        0.9.0\n",
            "wcwidth                       0.2.5\n",
            "webencodings                  0.5.1\n",
            "Werkzeug                      1.0.1\n",
            "wheel                         0.37.1\n",
            "widgetsnbextension            3.5.2\n",
            "wordcloud                     1.5.0\n",
            "wrapt                         1.13.3\n",
            "xarray                        0.18.2\n",
            "xgboost                       0.90\n",
            "xkit                          0.0.0\n",
            "xlrd                          1.1.0\n",
            "xlwt                          1.3.0\n",
            "yellowbrick                   1.3.post1\n",
            "zict                          2.0.0\n",
            "zipp                          3.7.0\n"
          ]
        }
      ]
    },
    {
      "cell_type": "markdown",
      "metadata": {
        "id": "zopYZ3PcY6hR"
      },
      "source": [
        "If you would like to see if pyfiglet was installed, you could scan the list above, or you could **pipe** the output of `pip list` to a console command known as `grep` that will filter for specific strings. This is an example of **redirecting output,** which you have learned about already.\n",
        "\n",
        "\n"
      ]
    },
    {
      "cell_type": "code",
      "metadata": {
        "id": "oAMcMjbLZMIE",
        "outputId": "e83efc93-b0f8-4774-f4aa-7d91b4608eb7",
        "colab": {
          "base_uri": "https://localhost:8080/"
        }
      },
      "source": [
        "pip list | grep pyfiglet "
      ],
      "execution_count": null,
      "outputs": [
        {
          "output_type": "stream",
          "name": "stdout",
          "text": [
            "pyfiglet                      0.8.post1\n"
          ]
        }
      ]
    },
    {
      "cell_type": "markdown",
      "metadata": {
        "id": "gt5dp771Yc2c"
      },
      "source": [
        "# Writing Our Script"
      ]
    },
    {
      "cell_type": "markdown",
      "metadata": {
        "id": "Hh36394HaB3g"
      },
      "source": [
        "The intention of this Colab introduction is to get you familiar with using google Colab to accomplish scripting goals. Today, we will be using the `pyfiglet` library we have just installed to output some text. To understand the methods available to us in `pyfiglet` we can look up [the github repository.](https://github.com/pwaller/pyfiglet)\n",
        "\n",
        "***Remember: Since open source packages are at the mercy of their developers or maintainers, comprehensive documentation is never a guarantee.***\n",
        "\n",
        "The help documentation outlines a command line `--help` argument, which means that documentation exists. We can't call command line arguments for imported libraries in colab, but we *can* accomplish the same goal in colab by using the python `help([Object])` function."
      ]
    },
    {
      "cell_type": "code",
      "metadata": {
        "id": "zR6mZpfkgRxd",
        "outputId": "d05173c3-c342-4591-c574-c3cfe7f50870",
        "colab": {
          "base_uri": "https://localhost:8080/"
        }
      },
      "source": [
        "from pyfiglet import Figlet\n",
        "\n",
        "help(Figlet)"
      ],
      "execution_count": null,
      "outputs": [
        {
          "output_type": "stream",
          "name": "stdout",
          "text": [
            "Help on class Figlet in module pyfiglet:\n",
            "\n",
            "class Figlet(builtins.object)\n",
            " |  Figlet(font='standard', direction='auto', justify='auto', width=80)\n",
            " |  \n",
            " |  Main figlet class.\n",
            " |  \n",
            " |  Methods defined here:\n",
            " |  \n",
            " |  __init__(self, font='standard', direction='auto', justify='auto', width=80)\n",
            " |      Initialize self.  See help(type(self)) for accurate signature.\n",
            " |  \n",
            " |  getDirection(self)\n",
            " |  \n",
            " |  getFonts(self)\n",
            " |  \n",
            " |  getJustify(self)\n",
            " |  \n",
            " |  renderText(self, text)\n",
            " |  \n",
            " |  setFont(self, **kwargs)\n",
            " |  \n",
            " |  ----------------------------------------------------------------------\n",
            " |  Data descriptors defined here:\n",
            " |  \n",
            " |  __dict__\n",
            " |      dictionary for instance variables (if defined)\n",
            " |  \n",
            " |  __weakref__\n",
            " |      list of weak references to the object (if defined)\n",
            " |  \n",
            " |  direction\n",
            " |  \n",
            " |  justify\n",
            "\n"
          ]
        }
      ]
    },
    {
      "cell_type": "code",
      "source": [
        "from pyfiglet import Figlet\n",
        "f = Figlet(font=\"slant\")\n",
        "print(f. renderText(\"hunny bunny\"))"
      ],
      "metadata": {
        "id": "nrJ0teDcNNyp",
        "outputId": "4e758f90-d690-4f02-e83a-776701d37b48",
        "colab": {
          "base_uri": "https://localhost:8080/"
        }
      },
      "execution_count": null,
      "outputs": [
        {
          "output_type": "stream",
          "name": "stdout",
          "text": [
            "    __                               __                           \n",
            "   / /_  __  ______  ____  __  __   / /_  __  ______  ____  __  __\n",
            "  / __ \\/ / / / __ \\/ __ \\/ / / /  / __ \\/ / / / __ \\/ __ \\/ / / /\n",
            " / / / / /_/ / / / / / / / /_/ /  / /_/ / /_/ / / / / / / / /_/ / \n",
            "/_/ /_/\\__,_/_/ /_/_/ /_/\\__, /  /_.___/\\__,_/_/ /_/_/ /_/\\__, /  \n",
            "                        /____/                           /____/   \n",
            "\n"
          ]
        }
      ]
    },
    {
      "cell_type": "code",
      "source": [
        "from pyfiglet import Figlet\n",
        "f = Figlet(font=\"slant\")\n",
        "print(f.getFonts())"
      ],
      "metadata": {
        "id": "889cR2V7POy8",
        "outputId": "df6ba818-8d11-40f2-a972-93a50f0ed21b",
        "colab": {
          "base_uri": "https://localhost:8080/"
        }
      },
      "execution_count": null,
      "outputs": [
        {
          "output_type": "stream",
          "name": "stdout",
          "text": [
            "['baz__bil', 'doom', 'mcg_____', '5lineoblique', 'a_zooloo', 'trashman', 'tav1____', 'rockbox_', 'cricket', 'bubble__', 'stellar', 'banner4', 'skateroc', 'fbr_stri', 'relief', 'roman', 'fp1_____', 'bubble', 'pyramid', 'future_2', 'gradient', 'xhelvi', 'small', 'top_duck', 'eftichess', 'sansbi', 'tomahawk', 'demo_1__', 'cosmike', 'charact6', 'pawp', 'sbookbi', 'eftitalic', 'ebbs_2__', 'future_8', 'kgames_i', 'dcs_bfmo', 'smshadow', 'rok_____', 'p_s_h_m_', 'helvb', 'xhelvb', 'broadway', 'f15_____', 'house_of', 'mirror', '4x4_offr', 'battle_s', 'smtengwar', 'subteran', 'hypa_bal', 'rad_____', 'beer_pub', 'char2___', 'crawford', 'rozzo', 'zone7___', 'yie-ar__', 'z-pilot_', 'raw_recu', 'charact4', 'future_7', 'britei', 'xcourbi', 'xbriteb', 'war_of_w', 'short', 'fraktur', 'chunky', 'bubble_b', '64f1____', 'fairligh', 'hades___', 'tsn_base', 'linux', 'double', 'charset_', 'graffiti', 'heroboti', 'madrid', 'big', 'kik_star', 'nancyj-underlined', 'cour', 'decimal', 'grand_pr', 'xbritei', 'sbookb', 'ucf_fan_', 'hex', 'gauntlet', 'usa_____', 'fbr2____', 'mayhem_d', 'future_1', 'clr5x8', 'tiles', 'utopiabi', 'jerusalem', 'atc_____', '3x5', 'nancyj', 'rounded', 'stampatello', 'char3___', 'npn_____', 'fbr12___', 'space_op', 'greek', 'ttyb', 'roman___', 'asc_____', 'bell', 'lexible_', 'timesofl', 'standard', 'sansi', 'fourtops', 'script', 'druid___', 'devilish', 'tengwar', 'rowancap', 'chartri', 'fantasy_', 'faces_of', 'helv', 'demo_m__', 'future_4', 'tec_7000', 'isometric2', 'eftiwall', 'slscript', 'deep_str', 'bigchief', 'stencil2', 'tinker-toy', 'o8', 'os2', 'kban', 'invita', 'tsalagi', 'ntgreek', 'ebbs_1__', 'smslant', 'relief2', 'binary', 'cursive', 'isometric4', 'char1___', 'octal', 'c_consen', 'basic', 'coil_cop', 'eftifont', 'helvi', 'isometric1', 'mnemonic', 'lcd', 'road_rai', 'mad_nurs', 'block', 'twopoint', 'fireing_', 'xsansi', 'odel_lak', 'italics_', 'nipples', 'smisome1', 'sansb', 'utopiai', 'digital', 'xbrite', 'starwars', 'rot13', 'radical_', 'contessa', 'mig_ally', 'tecrvs__', 'clb8x10', 'shadow', 'maxfour', 'assalt_m', 'stop', 'green_be', 'nfi1____', 'xsansb', 'threepoint', 'italic', 'clb6x10', 'xsansbi', 'usaflag', '3-d', 'skateord', 'aquaplan', 'krak_out', 'rally_sp', 'xsbookb', 'stealth_', 'finalass', 'triad_st', 'inc_raw_', 'calgphy2', 'alligator', 'xsans', 'type_set', 'fp2_____', 'jazmine', 'c_ascii_', 'rectangles', 'rampage_', 'lazy_jon', 'briteb', 'katakana', 'clr8x10', 'mini', 'rev', 'tanja', 'clr6x8', 'skate_ro', 'britebi', 'panther_', 'pebbles', 'eftiwater', 'alphabet', 'mshebrew210', 'c2______', 'rainbow_', 'atc_gran', 'ticksslant', 'hills___', 'caligraphy', '5x7', 'home_pak', 'bulbhead', 'hyper___', 'moscow', 'xtty', 'clr7x8', 'tec1____', 'taxi____', 'modern__', 'xsbook', 'heavy_me', 'notie_ca', 'letter_w', 'flyn_sh', 'arrows', 'barbwire', 'clr5x6', 'tsm_____', 'pawn_ins', 'gothic__', 'twin_cob', 'clr7x10', 'slide', 'charact1', 'rci_____', 'sans', 'whimsy', 'rad_phan', 'funky_dr', 'defleppard', 'clb8x8', 'runyc', 'caus_in_', 'graceful', 'master_o', 'trek', 'charact3', 'morse', 'fender', 'xcouri', 'pepper', 'weird', 'couri', 'nvscript', 'xcour', 'usa_pq__', 'future_6', 'courbi', 'wavy', 'poison', 'shimrod', 'thick', 'future_3', 'cosmic', 'xchartri', 'clr5x10', '1943____', 'chartr', 'lockergnome', 'epic', 'cyberlarge', 'xbritebi', 'eftipiti', 'fuzzy', 'banner3', 'zig_zag_', 'mike', 'ti_pan__', 'rally_s2', 'street_s', 'colossal', '5x8', 'doh', 'outrun__', 'stacey', '6x10', 'acrobatic', 'larry3d', '6x9', 'new_asci', 'tty', 'smkeyboard', 'rastan__', 'charact5', 'univers', 'ghost_bo', 'pod_____', 'sbook', 'ivrit', 'etcrvs__', 'clr6x6', 'battlesh', 'cli8x8', 'straight', 'banner3-D', 'fbr_tilt', 'serifcap', 'hollywood', 'p_skateb', 'courb', 'times', 'runic', 'letterw3', 'catwalk', 'spc_demo', 'c1______', 'vortron_', 'ugalympi', 'alligator2', 'clr6x10', 'xhelvbi', 'term', 'high_noo', 'ascii___', 'future_5', 'tombstone', 'banner', 'contrast', 'unarmed_', 'xtimes', 'b_m__200', 'xcourb', 'marquee', 'speed', 'gothic', 'fbr1____', 'characte', 'yie_ar_k', 'clr4x6', 'smscript', 'helvbi', 'utopiab', 'cybermedium', 'd_dragon', 'platoon_', 'peaks', 'slant', 'puffy', 'sm______', 'goofy', 'script__', 'brite', 'drpepper', 'asslt__m', 'super_te', 'lean', 'com_sen_', 'phonix__', 'advenger', 'nancyj-fancy', 'ripper!_', 'letters', 'pacos_pe', 'ok_beer_', 'ticks', 'charact2', 'eftirobot', 'joust___', 'xhelv', 'xttyb', 'xsbooki', 'sketch_s', 'sblood', 'isometric3', 'platoon2', 'tubular', 'star_war', 'eca_____', 'xchartr', 'sbooki', 'xsbookbi', 'utopia', 'avatar', 'fair_mea', 'thin', 'computer', 'r2-d2___', 'convoy__', 'ts1_____', 'ogre', 'demo_2__', 'dotmatrix', 'clr8x8', 'dwhistled', 'cybersmall', 'stencil1', 'magic_ma', 't__of_ap', 'e__fist_', 'char4___', 'diamond', 'coinstak']\n"
          ]
        }
      ]
    },
    {
      "cell_type": "code",
      "source": [
        "from pyfiglet import Figlet\n",
        "f = Figlet()\n",
        "fonts = f.getFonts()\n",
        "f.setFont(font=\"smslant\")\n",
        "print(f.renderText(\"I am NEGAN\"))\n"
      ],
      "metadata": {
        "id": "hnNzb4rfRMka",
        "outputId": "c706ca08-f862-4a2c-f9ce-3e0adfbf2968",
        "colab": {
          "base_uri": "https://localhost:8080/"
        }
      },
      "execution_count": null,
      "outputs": [
        {
          "output_type": "stream",
          "name": "stdout",
          "text": [
            "   ____               _  ______________   _  __\n",
            "  /  _/ ___ ___ _    / |/ / __/ ___/ _ | / |/ /\n",
            " _/ /  / _ `/  ' \\  /    / _// (_ / __ |/    / \n",
            "/___/  \\_,_/_/_/_/ /_/|_/___/\\___/_/ |_/_/|_/  \n",
            "                                               \n",
            "\n"
          ]
        }
      ]
    },
    {
      "cell_type": "code",
      "source": [
        ""
      ],
      "metadata": {
        "id": "tyZBcWPMSoam"
      },
      "execution_count": null,
      "outputs": []
    },
    {
      "cell_type": "code",
      "source": [
        ""
      ],
      "metadata": {
        "id": "WvAi2e14QZGz"
      },
      "execution_count": null,
      "outputs": []
    },
    {
      "cell_type": "markdown",
      "metadata": {
        "id": "UxKlfQJrmq4N"
      },
      "source": [
        "Using this function we can see that the `Figlet` object has several methods available. This will bring us to your task:\n",
        "\n",
        "\n",
        "**In the editor below, finish a script that accomplishes the following goals:**\n",
        "\n",
        "1.   Prompt the user to select from a list of 5 fonts.\n",
        "2.   Prompt the user to input the string they would like output in that font.\n",
        "3.   Render the text using the selected font.\n",
        "\n",
        "*Hint:* Call the `getFonts()` method to get a list of the available fonts."
      ]
    },
    {
      "cell_type": "code",
      "metadata": {
        "id": "b2y8sufRoEpR",
        "outputId": "6be1b2e9-3775-458f-f261-3d73095aef5c",
        "colab": {
          "base_uri": "https://localhost:8080/"
        }
      },
      "source": [
        "from pyfiglet import Figlet\n",
        "f = Figlet()\n",
        "selectedFont = ['stellar', 'banner4', 'roman', 'fbr_stri', 'relief']\n",
        "print(\"selectedFonts:\")\n",
        "i = 0\n",
        "while i < len(selectedFont):\n",
        "  print(selectedFont[i])\n",
        "  i += 1\n",
        "font = input(\"select a font:\") \n",
        "fonts = f.getFonts()\n",
        "f.setFont(font=font)\n",
        "print(f.renderText(\"I am NEGAN\"))\n",
        "\n",
        "\n",
        "\n",
        "\n"
      ],
      "execution_count": 8,
      "outputs": [
        {
          "output_type": "stream",
          "name": "stdout",
          "text": [
            "selectedFonts:\n",
            "stellar\n",
            "banner4\n",
            "roman\n",
            "fbr_stri\n",
            "relief\n",
            "select a font:stellar\n",
            "`..                        \n",
            "`..                        \n",
            "`..    `..    `... `.. `.. \n",
            "`..  `..  `..  `..  `.  `..\n",
            "`.. `..   `..  `..  `.  `..\n",
            "`.. `..   `..  `..  `.  `..\n",
            "`..   `.. `...`...  `.  `..\n",
            "                           \n",
            "`...     `..`........   `....         `.       `...     `..\n",
            "`. `..   `..`..       `.    `..      `. ..     `. `..   `..\n",
            "`.. `..  `..`..      `..            `.  `..    `.. `..  `..\n",
            "`..  `.. `..`......  `..           `..   `..   `..  `.. `..\n",
            "`..   `. `..`..      `..   `....  `...... `..  `..   `. `..\n",
            "`..    `. ..`..       `..    `.  `..       `.. `..    `. ..\n",
            "`..      `..`........  `.....   `..         `..`..      `..\n",
            "                                                           \n",
            "\n"
          ]
        }
      ]
    },
    {
      "cell_type": "markdown",
      "metadata": {
        "id": "wXiyORkQqUfz"
      },
      "source": [
        "# Submitting your Script"
      ]
    },
    {
      "cell_type": "markdown",
      "metadata": {
        "id": "eUMXNhytqZY6"
      },
      "source": [
        "Once you have succesfully completed your script, make sure to save it to your github account. (Take a look [at the official colab instructions](https://colab.research.google.com/github/googlecolab/colabtools/blob/master/notebooks/colab-github-demo.ipynb) if you need a refresher.)"
      ]
    }
  ]
}